{
 "cells": [
  {
   "cell_type": "code",
   "execution_count": 1,
   "metadata": {},
   "outputs": [],
   "source": [
    "import openai\n",
    "from dotenv import dotenv_values\n",
    "config = dotenv_values(\".env\")"
   ]
  },
  {
   "cell_type": "code",
   "execution_count": 2,
   "metadata": {},
   "outputs": [],
   "source": [
    "client = openai.OpenAI(api_key=config[\"OPENAI_API_KEY\"])"
   ]
  },
  {
   "cell_type": "code",
   "execution_count": 3,
   "metadata": {},
   "outputs": [],
   "source": [
    "import warnings\n",
    "warnings.filterwarnings('ignore')"
   ]
  },
  {
   "cell_type": "code",
   "execution_count": 4,
   "metadata": {},
   "outputs": [],
   "source": [
    "from llm_guard import scan_output, scan_prompt\n",
    "from llm_guard.input_scanners import Anonymize, PromptInjection, TokenLimit, Toxicity\n",
    "from llm_guard.output_scanners import Deanonymize, NoRefusal, Relevance, Sensitive\n",
    "from llm_guard.vault import Vault"
   ]
  },
  {
   "cell_type": "code",
   "execution_count": 7,
   "metadata": {},
   "outputs": [],
   "source": [
    "# llm guard is using spacy to perform NLP / NER operations"
   ]
  },
  {
   "cell_type": "code",
   "execution_count": 8,
   "metadata": {},
   "outputs": [
    {
     "name": "stdout",
     "output_type": "stream",
     "text": [
      "\u001b[2m2024-10-31 11:28:27\u001b[0m [\u001b[32m\u001b[1mdebug    \u001b[0m] \u001b[1mNo entity types provided, using default\u001b[0m \u001b[36mdefault_entities\u001b[0m=\u001b[35m['CREDIT_CARD', 'CRYPTO', 'EMAIL_ADDRESS', 'IBAN_CODE', 'IP_ADDRESS', 'PERSON', 'PHONE_NUMBER', 'US_SSN', 'US_BANK_NUMBER', 'CREDIT_CARD_RE', 'UUID', 'EMAIL_ADDRESS_RE', 'US_SSN_RE']\u001b[0m\n",
      "\u001b[2m2024-10-31 11:28:28\u001b[0m [\u001b[32m\u001b[1mdebug    \u001b[0m] \u001b[1mInitialized NER model         \u001b[0m \u001b[36mdevice\u001b[0m=\u001b[35mdevice(type='cpu')\u001b[0m \u001b[36mmodel\u001b[0m=\u001b[35mModel(path='Isotonic/deberta-v3-base_finetuned_ai4privacy_v2', subfolder='', revision='9ea992753ab2686be4a8f64605ccc7be197ad794', onnx_path='Isotonic/deberta-v3-base_finetuned_ai4privacy_v2', onnx_revision='9ea992753ab2686be4a8f64605ccc7be197ad794', onnx_subfolder='onnx', onnx_filename='model.onnx', kwargs={}, pipeline_kwargs={'batch_size': 1, 'device': device(type='cpu'), 'aggregation_strategy': 'simple', 'ignore_labels': ['O', 'CARDINAL']}, tokenizer_kwargs={'model_input_names': ['input_ids', 'attention_mask']})\u001b[0m\n",
      "\u001b[2m2024-10-31 11:28:28\u001b[0m [\u001b[32m\u001b[1mdebug    \u001b[0m] \u001b[1mLoaded regex pattern          \u001b[0m \u001b[36mgroup_name\u001b[0m=\u001b[35mCREDIT_CARD_RE\u001b[0m\n",
      "\u001b[2m2024-10-31 11:28:28\u001b[0m [\u001b[32m\u001b[1mdebug    \u001b[0m] \u001b[1mLoaded regex pattern          \u001b[0m \u001b[36mgroup_name\u001b[0m=\u001b[35mUUID\u001b[0m\n",
      "\u001b[2m2024-10-31 11:28:28\u001b[0m [\u001b[32m\u001b[1mdebug    \u001b[0m] \u001b[1mLoaded regex pattern          \u001b[0m \u001b[36mgroup_name\u001b[0m=\u001b[35mEMAIL_ADDRESS_RE\u001b[0m\n",
      "\u001b[2m2024-10-31 11:28:28\u001b[0m [\u001b[32m\u001b[1mdebug    \u001b[0m] \u001b[1mLoaded regex pattern          \u001b[0m \u001b[36mgroup_name\u001b[0m=\u001b[35mUS_SSN_RE\u001b[0m\n",
      "\u001b[2m2024-10-31 11:28:28\u001b[0m [\u001b[32m\u001b[1mdebug    \u001b[0m] \u001b[1mLoaded regex pattern          \u001b[0m \u001b[36mgroup_name\u001b[0m=\u001b[35mBTC_ADDRESS\u001b[0m\n",
      "\u001b[2m2024-10-31 11:28:28\u001b[0m [\u001b[32m\u001b[1mdebug    \u001b[0m] \u001b[1mLoaded regex pattern          \u001b[0m \u001b[36mgroup_name\u001b[0m=\u001b[35mURL_RE\u001b[0m\n",
      "\u001b[2m2024-10-31 11:28:28\u001b[0m [\u001b[32m\u001b[1mdebug    \u001b[0m] \u001b[1mLoaded regex pattern          \u001b[0m \u001b[36mgroup_name\u001b[0m=\u001b[35mCREDIT_CARD\u001b[0m\n",
      "\u001b[2m2024-10-31 11:28:28\u001b[0m [\u001b[32m\u001b[1mdebug    \u001b[0m] \u001b[1mLoaded regex pattern          \u001b[0m \u001b[36mgroup_name\u001b[0m=\u001b[35mEMAIL_ADDRESS_RE\u001b[0m\n",
      "\u001b[2m2024-10-31 11:28:28\u001b[0m [\u001b[32m\u001b[1mdebug    \u001b[0m] \u001b[1mLoaded regex pattern          \u001b[0m \u001b[36mgroup_name\u001b[0m=\u001b[35mPHONE_NUMBER_ZH\u001b[0m\n",
      "\u001b[2m2024-10-31 11:28:28\u001b[0m [\u001b[32m\u001b[1mdebug    \u001b[0m] \u001b[1mLoaded regex pattern          \u001b[0m \u001b[36mgroup_name\u001b[0m=\u001b[35mPHONE_NUMBER_WITH_EXT\u001b[0m\n",
      "\u001b[2m2024-10-31 11:28:28\u001b[0m [\u001b[32m\u001b[1mdebug    \u001b[0m] \u001b[1mLoaded regex pattern          \u001b[0m \u001b[36mgroup_name\u001b[0m=\u001b[35mDATE_RE\u001b[0m\n",
      "\u001b[2m2024-10-31 11:28:28\u001b[0m [\u001b[32m\u001b[1mdebug    \u001b[0m] \u001b[1mLoaded regex pattern          \u001b[0m \u001b[36mgroup_name\u001b[0m=\u001b[35mTIME_RE\u001b[0m\n",
      "\u001b[2m2024-10-31 11:28:28\u001b[0m [\u001b[32m\u001b[1mdebug    \u001b[0m] \u001b[1mLoaded regex pattern          \u001b[0m \u001b[36mgroup_name\u001b[0m=\u001b[35mHEX_COLOR\u001b[0m\n",
      "\u001b[2m2024-10-31 11:28:28\u001b[0m [\u001b[32m\u001b[1mdebug    \u001b[0m] \u001b[1mLoaded regex pattern          \u001b[0m \u001b[36mgroup_name\u001b[0m=\u001b[35mPRICE_RE\u001b[0m\n",
      "\u001b[2m2024-10-31 11:28:28\u001b[0m [\u001b[32m\u001b[1mdebug    \u001b[0m] \u001b[1mLoaded regex pattern          \u001b[0m \u001b[36mgroup_name\u001b[0m=\u001b[35mPO_BOX_RE\u001b[0m\n",
      "\u001b[2m2024-10-31 11:28:29\u001b[0m [\u001b[32m\u001b[1mdebug    \u001b[0m] \u001b[1mInitialized classification model\u001b[0m \u001b[36mdevice\u001b[0m=\u001b[35mdevice(type='cpu')\u001b[0m \u001b[36mmodel\u001b[0m=\u001b[35mModel(path='unitary/unbiased-toxic-roberta', subfolder='', revision='36295dd80b422dc49f40052021430dae76241adc', onnx_path='ProtectAI/unbiased-toxic-roberta-onnx', onnx_revision='34480fa958f6657ad835c345808475755b6974a7', onnx_subfolder='', onnx_filename='model.onnx', kwargs={}, pipeline_kwargs={'batch_size': 1, 'device': device(type='cpu'), 'padding': 'max_length', 'top_k': None, 'function_to_apply': 'sigmoid', 'return_token_type_ids': False, 'max_length': 512, 'truncation': True}, tokenizer_kwargs={})\u001b[0m\n",
      "\u001b[2m2024-10-31 11:28:29\u001b[0m [\u001b[32m\u001b[1mdebug    \u001b[0m] \u001b[1mInitialized classification model\u001b[0m \u001b[36mdevice\u001b[0m=\u001b[35mdevice(type='cpu')\u001b[0m \u001b[36mmodel\u001b[0m=\u001b[35mModel(path='protectai/deberta-v3-base-prompt-injection-v2', subfolder='', revision='89b085cd330414d3e7d9dd787870f315957e1e9f', onnx_path='ProtectAI/deberta-v3-base-prompt-injection-v2', onnx_revision='89b085cd330414d3e7d9dd787870f315957e1e9f', onnx_subfolder='onnx', onnx_filename='model.onnx', kwargs={}, pipeline_kwargs={'batch_size': 1, 'device': device(type='cpu'), 'return_token_type_ids': False, 'max_length': 512, 'truncation': True}, tokenizer_kwargs={})\u001b[0m\n",
      "\u001b[2m2024-10-31 11:28:30\u001b[0m [\u001b[32m\u001b[1mdebug    \u001b[0m] \u001b[1mInitialized classification model\u001b[0m \u001b[36mdevice\u001b[0m=\u001b[35mdevice(type='cpu')\u001b[0m \u001b[36mmodel\u001b[0m=\u001b[35mModel(path='ProtectAI/distilroberta-base-rejection-v1', subfolder='', revision='65584967c3f22ff7723e5370c65e0e76791e6055', onnx_path='ProtectAI/distilroberta-base-rejection-v1', onnx_revision='65584967c3f22ff7723e5370c65e0e76791e6055', onnx_subfolder='onnx', onnx_filename='model.onnx', kwargs={}, pipeline_kwargs={'batch_size': 1, 'device': device(type='cpu'), 'return_token_type_ids': False, 'max_length': 128, 'truncation': True}, tokenizer_kwargs={})\u001b[0m\n",
      "\u001b[2m2024-10-31 11:28:30\u001b[0m [\u001b[32m\u001b[1mdebug    \u001b[0m] \u001b[1mInitialized model             \u001b[0m \u001b[36mdevice\u001b[0m=\u001b[35mdevice(type='cpu')\u001b[0m \u001b[36mmodel\u001b[0m=\u001b[35mModel(path='BAAI/bge-base-en-v1.5', subfolder='', revision='a5beb1e3e68b9ab74eb54cfd186867f64f240e1a', onnx_path='BAAI/bge-base-en-v1.5', onnx_revision='a5beb1e3e68b9ab74eb54cfd186867f64f240e1a', onnx_subfolder='onnx', onnx_filename='model.onnx', kwargs={}, pipeline_kwargs={'batch_size': 1, 'device': device(type='cpu')}, tokenizer_kwargs={})\u001b[0m\n",
      "\u001b[2m2024-10-31 11:28:30\u001b[0m [\u001b[32m\u001b[1mdebug    \u001b[0m] \u001b[1mNo entity types provided, using default\u001b[0m \u001b[36mdefault_entity_types\u001b[0m=\u001b[35m['CREDIT_CARD', 'CRYPTO', 'EMAIL_ADDRESS', 'IBAN_CODE', 'IP_ADDRESS', 'PERSON', 'PHONE_NUMBER', 'US_SSN', 'US_BANK_NUMBER', 'CREDIT_CARD_RE', 'UUID', 'EMAIL_ADDRESS_RE', 'US_SSN_RE']\u001b[0m\n",
      "\u001b[2m2024-10-31 11:28:31\u001b[0m [\u001b[32m\u001b[1mdebug    \u001b[0m] \u001b[1mInitialized NER model         \u001b[0m \u001b[36mdevice\u001b[0m=\u001b[35mdevice(type='cpu')\u001b[0m \u001b[36mmodel\u001b[0m=\u001b[35mModel(path='Isotonic/deberta-v3-base_finetuned_ai4privacy_v2', subfolder='', revision='9ea992753ab2686be4a8f64605ccc7be197ad794', onnx_path='Isotonic/deberta-v3-base_finetuned_ai4privacy_v2', onnx_revision='9ea992753ab2686be4a8f64605ccc7be197ad794', onnx_subfolder='onnx', onnx_filename='model.onnx', kwargs={}, pipeline_kwargs={'batch_size': 1, 'device': device(type='cpu'), 'aggregation_strategy': 'simple', 'ignore_labels': ['O', 'CARDINAL']}, tokenizer_kwargs={'model_input_names': ['input_ids', 'attention_mask']})\u001b[0m\n",
      "\u001b[2m2024-10-31 11:28:31\u001b[0m [\u001b[32m\u001b[1mdebug    \u001b[0m] \u001b[1mLoaded regex pattern          \u001b[0m \u001b[36mgroup_name\u001b[0m=\u001b[35mCREDIT_CARD_RE\u001b[0m\n",
      "\u001b[2m2024-10-31 11:28:31\u001b[0m [\u001b[32m\u001b[1mdebug    \u001b[0m] \u001b[1mLoaded regex pattern          \u001b[0m \u001b[36mgroup_name\u001b[0m=\u001b[35mUUID\u001b[0m\n",
      "\u001b[2m2024-10-31 11:28:31\u001b[0m [\u001b[32m\u001b[1mdebug    \u001b[0m] \u001b[1mLoaded regex pattern          \u001b[0m \u001b[36mgroup_name\u001b[0m=\u001b[35mEMAIL_ADDRESS_RE\u001b[0m\n",
      "\u001b[2m2024-10-31 11:28:31\u001b[0m [\u001b[32m\u001b[1mdebug    \u001b[0m] \u001b[1mLoaded regex pattern          \u001b[0m \u001b[36mgroup_name\u001b[0m=\u001b[35mUS_SSN_RE\u001b[0m\n",
      "\u001b[2m2024-10-31 11:28:31\u001b[0m [\u001b[32m\u001b[1mdebug    \u001b[0m] \u001b[1mLoaded regex pattern          \u001b[0m \u001b[36mgroup_name\u001b[0m=\u001b[35mBTC_ADDRESS\u001b[0m\n",
      "\u001b[2m2024-10-31 11:28:31\u001b[0m [\u001b[32m\u001b[1mdebug    \u001b[0m] \u001b[1mLoaded regex pattern          \u001b[0m \u001b[36mgroup_name\u001b[0m=\u001b[35mURL_RE\u001b[0m\n",
      "\u001b[2m2024-10-31 11:28:31\u001b[0m [\u001b[32m\u001b[1mdebug    \u001b[0m] \u001b[1mLoaded regex pattern          \u001b[0m \u001b[36mgroup_name\u001b[0m=\u001b[35mCREDIT_CARD\u001b[0m\n",
      "\u001b[2m2024-10-31 11:28:31\u001b[0m [\u001b[32m\u001b[1mdebug    \u001b[0m] \u001b[1mLoaded regex pattern          \u001b[0m \u001b[36mgroup_name\u001b[0m=\u001b[35mEMAIL_ADDRESS_RE\u001b[0m\n",
      "\u001b[2m2024-10-31 11:28:31\u001b[0m [\u001b[32m\u001b[1mdebug    \u001b[0m] \u001b[1mLoaded regex pattern          \u001b[0m \u001b[36mgroup_name\u001b[0m=\u001b[35mPHONE_NUMBER_ZH\u001b[0m\n",
      "\u001b[2m2024-10-31 11:28:31\u001b[0m [\u001b[32m\u001b[1mdebug    \u001b[0m] \u001b[1mLoaded regex pattern          \u001b[0m \u001b[36mgroup_name\u001b[0m=\u001b[35mPHONE_NUMBER_WITH_EXT\u001b[0m\n",
      "\u001b[2m2024-10-31 11:28:31\u001b[0m [\u001b[32m\u001b[1mdebug    \u001b[0m] \u001b[1mLoaded regex pattern          \u001b[0m \u001b[36mgroup_name\u001b[0m=\u001b[35mDATE_RE\u001b[0m\n",
      "\u001b[2m2024-10-31 11:28:31\u001b[0m [\u001b[32m\u001b[1mdebug    \u001b[0m] \u001b[1mLoaded regex pattern          \u001b[0m \u001b[36mgroup_name\u001b[0m=\u001b[35mTIME_RE\u001b[0m\n",
      "\u001b[2m2024-10-31 11:28:31\u001b[0m [\u001b[32m\u001b[1mdebug    \u001b[0m] \u001b[1mLoaded regex pattern          \u001b[0m \u001b[36mgroup_name\u001b[0m=\u001b[35mHEX_COLOR\u001b[0m\n",
      "\u001b[2m2024-10-31 11:28:31\u001b[0m [\u001b[32m\u001b[1mdebug    \u001b[0m] \u001b[1mLoaded regex pattern          \u001b[0m \u001b[36mgroup_name\u001b[0m=\u001b[35mPRICE_RE\u001b[0m\n",
      "\u001b[2m2024-10-31 11:28:31\u001b[0m [\u001b[32m\u001b[1mdebug    \u001b[0m] \u001b[1mLoaded regex pattern          \u001b[0m \u001b[36mgroup_name\u001b[0m=\u001b[35mPO_BOX_RE\u001b[0m\n"
     ]
    }
   ],
   "source": [
    "vault = Vault()\n",
    "input_scanners = [Anonymize(vault), Toxicity(), TokenLimit(), PromptInjection()]\n",
    "output_scanners = [Deanonymize(vault), NoRefusal(), Relevance(), Sensitive()]"
   ]
  },
  {
   "cell_type": "code",
   "execution_count": 19,
   "metadata": {},
   "outputs": [],
   "source": [
    "prompt = \"Make an SQL insert statement to add a new user to our database.\\nName is John Doe. Email is test@test.com but also possible to contact him with hello@test.com email.\\nPhone number is 555-123-4567 and the IP address is 192.168.1.100.\\nAnd credit card number is 4567-8901-2345-6789. He works in Test LLC.\""
   ]
  },
  {
   "cell_type": "code",
   "execution_count": 20,
   "metadata": {},
   "outputs": [
    {
     "name": "stdout",
     "output_type": "stream",
     "text": [
      "Make an SQL insert statement to add a new user to our database.\n",
      "Name is John Doe. Email is test@test.com but also possible to contact him with hello@test.com email.\n",
      "Phone number is 555-123-4567 and the IP address is 192.168.1.100.\n",
      "And credit card number is 4567-8901-2345-6789. He works in Test LLC.\n"
     ]
    }
   ],
   "source": [
    "print(prompt)"
   ]
  },
  {
   "cell_type": "code",
   "execution_count": 21,
   "metadata": {},
   "outputs": [
    {
     "name": "stdout",
     "output_type": "stream",
     "text": [
      "\u001b[2m2024-10-31 11:30:29\u001b[0m [\u001b[32m\u001b[1mdebug    \u001b[0m] \u001b[1mIgnoring entity               \u001b[0m \u001b[36mentity_group\u001b[0m=\u001b[35mORGANIZATION\u001b[0m\n",
      "\u001b[2m2024-10-31 11:30:29\u001b[0m [\u001b[33m\u001b[1mwarning  \u001b[0m] \u001b[1mFound unrecognized label, returning entity as is\u001b[0m \u001b[36mlabel\u001b[0m=\u001b[35mACCOUNTNUMBER\u001b[0m\n",
      "\u001b[2m2024-10-31 11:30:29\u001b[0m [\u001b[32m\u001b[1mdebug    \u001b[0m] \u001b[1mIgnoring entity               \u001b[0m \u001b[36mentity_group\u001b[0m=\u001b[35mACCOUNTNUMBER\u001b[0m\n",
      "\u001b[2m2024-10-31 11:30:29\u001b[0m [\u001b[32m\u001b[1mdebug    \u001b[0m] \u001b[1mremoving element type: CREDIT_CARD, start: 259, end: 276, score: 0.9399999976158142 from results list due to conflict\u001b[0m\n",
      "\u001b[2m2024-10-31 11:30:29\u001b[0m [\u001b[32m\u001b[1mdebug    \u001b[0m] \u001b[1mremoving element type: CREDIT_CARD, start: 257, end: 259, score: 0.8999999761581421 from results list due to conflict\u001b[0m\n",
      "\u001b[2m2024-10-31 11:30:29\u001b[0m [\u001b[32m\u001b[1mdebug    \u001b[0m] \u001b[1mremoving element type: EMAIL_ADDRESS_RE, start: 91, end: 104, score: 0.75 from results list due to conflict\u001b[0m\n",
      "\u001b[2m2024-10-31 11:30:29\u001b[0m [\u001b[32m\u001b[1mdebug    \u001b[0m] \u001b[1mremoving element type: EMAIL_ADDRESS_RE, start: 143, end: 157, score: 0.75 from results list due to conflict\u001b[0m\n",
      "\u001b[2m2024-10-31 11:30:29\u001b[0m [\u001b[33m\u001b[1mwarning  \u001b[0m] \u001b[1mFound sensitive data in the prompt and replaced it\u001b[0m \u001b[36mmerged_results\u001b[0m=\u001b[35m[type: PERSON, start: 72, end: 76, score: 0.9800000190734863, type: EMAIL_ADDRESS, start: 91, end: 104, score: 1.0, type: EMAIL_ADDRESS, start: 143, end: 157, score: 1.0, type: PHONE_NUMBER, start: 181, end: 193, score: 1.0, type: IP_ADDRESS, start: 216, end: 229, score: 0.95, type: CREDIT_CARD_RE, start: 257, end: 276, score: 0.75]\u001b[0m \u001b[36mrisk_score\u001b[0m=\u001b[35m1.0\u001b[0m\n",
      "\u001b[2m2024-10-31 11:30:29\u001b[0m [\u001b[32m\u001b[1mdebug    \u001b[0m] \u001b[1mScanner completed             \u001b[0m \u001b[36melapsed_time_seconds\u001b[0m=\u001b[35m0.142271\u001b[0m \u001b[36mis_valid\u001b[0m=\u001b[35mFalse\u001b[0m \u001b[36mscanner\u001b[0m=\u001b[35mAnonymize\u001b[0m\n",
      "\u001b[2m2024-10-31 11:30:29\u001b[0m [\u001b[32m\u001b[1mdebug    \u001b[0m] \u001b[1mNot toxicity found in the text\u001b[0m \u001b[36mresults\u001b[0m=\u001b[35m[[{'label': 'toxicity', 'score': 0.00037830197834409773}, {'label': 'male', 'score': 0.00025886387447826564}, {'label': 'psychiatric_or_mental_illness', 'score': 0.0001499965146649629}, {'label': 'insult', 'score': 0.00012494837574195117}, {'label': 'female', 'score': 0.00011851712042698637}, {'label': 'white', 'score': 7.582098623970523e-05}, {'label': 'muslim', 'score': 6.599170592380688e-05}, {'label': 'christian', 'score': 6.398697587428614e-05}, {'label': 'black', 'score': 4.0742499550106004e-05}, {'label': 'obscene', 'score': 3.6308203561929986e-05}, {'label': 'homosexual_gay_or_lesbian', 'score': 3.2412586733698845e-05}, {'label': 'jewish', 'score': 2.846365350706037e-05}, {'label': 'threat', 'score': 2.6199686544714496e-05}, {'label': 'identity_attack', 'score': 2.5232709958800115e-05}, {'label': 'sexual_explicit', 'score': 2.3891225282568485e-05}, {'label': 'severe_toxicity', 'score': 1.3146362789484556e-06}]]\u001b[0m\n",
      "\u001b[2m2024-10-31 11:30:29\u001b[0m [\u001b[32m\u001b[1mdebug    \u001b[0m] \u001b[1mScanner completed             \u001b[0m \u001b[36melapsed_time_seconds\u001b[0m=\u001b[35m0.313667\u001b[0m \u001b[36mis_valid\u001b[0m=\u001b[35mTrue\u001b[0m \u001b[36mscanner\u001b[0m=\u001b[35mToxicity\u001b[0m\n",
      "\u001b[2m2024-10-31 11:30:29\u001b[0m [\u001b[32m\u001b[1mdebug    \u001b[0m] \u001b[1mPrompt fits the maximum tokens\u001b[0m \u001b[36mnum_tokens\u001b[0m=\u001b[35m109\u001b[0m \u001b[36mthreshold\u001b[0m=\u001b[35m4096\u001b[0m\n",
      "\u001b[2m2024-10-31 11:30:29\u001b[0m [\u001b[32m\u001b[1mdebug    \u001b[0m] \u001b[1mScanner completed             \u001b[0m \u001b[36melapsed_time_seconds\u001b[0m=\u001b[35m0.001138\u001b[0m \u001b[36mis_valid\u001b[0m=\u001b[35mTrue\u001b[0m \u001b[36mscanner\u001b[0m=\u001b[35mTokenLimit\u001b[0m\n",
      "\u001b[2m2024-10-31 11:30:29\u001b[0m [\u001b[32m\u001b[1mdebug    \u001b[0m] \u001b[1mNo prompt injection detected  \u001b[0m \u001b[36mhighest_score\u001b[0m=\u001b[35m0.01\u001b[0m\n",
      "\u001b[2m2024-10-31 11:30:29\u001b[0m [\u001b[32m\u001b[1mdebug    \u001b[0m] \u001b[1mScanner completed             \u001b[0m \u001b[36melapsed_time_seconds\u001b[0m=\u001b[35m0.113847\u001b[0m \u001b[36mis_valid\u001b[0m=\u001b[35mTrue\u001b[0m \u001b[36mscanner\u001b[0m=\u001b[35mPromptInjection\u001b[0m\n",
      "\u001b[2m2024-10-31 11:30:29\u001b[0m [\u001b[32m\u001b[1minfo     \u001b[0m] \u001b[1mScanned prompt                \u001b[0m \u001b[36melapsed_time_seconds\u001b[0m=\u001b[35m0.572774\u001b[0m \u001b[36mscores\u001b[0m=\u001b[35m{'Anonymize': 1.0, 'Toxicity': 0.0, 'TokenLimit': 0.0, 'PromptInjection': 0.0}\u001b[0m\n"
     ]
    }
   ],
   "source": [
    "sanitized_prompt, results_valid, results_score = scan_prompt(input_scanners, prompt)"
   ]
  },
  {
   "cell_type": "code",
   "execution_count": 22,
   "metadata": {},
   "outputs": [
    {
     "name": "stdout",
     "output_type": "stream",
     "text": [
      "Make an SQL insert statement to add a new user to our database.\n",
      "Name is [REDACTED_PERSON_1] Doe. Email is [REDACTED_EMAIL_ADDRESS_1] but also possible to contact him with [REDACTED_EMAIL_ADDRESS_2] email.\n",
      "Phone number is [REDACTED_PHONE_NUMBER_1] and the IP address is [REDACTED_IP_ADDRESS_1].\n",
      "And credit card number is [REDACTED_CREDIT_CARD_RE_1]. He works in Test LLC.\n"
     ]
    }
   ],
   "source": [
    "print(sanitized_prompt)"
   ]
  },
  {
   "cell_type": "code",
   "execution_count": 23,
   "metadata": {},
   "outputs": [
    {
     "data": {
      "text/plain": [
       "{'Anonymize': False,\n",
       " 'Toxicity': True,\n",
       " 'TokenLimit': True,\n",
       " 'PromptInjection': True}"
      ]
     },
     "execution_count": 23,
     "metadata": {},
     "output_type": "execute_result"
    }
   ],
   "source": [
    "results_valid"
   ]
  },
  {
   "cell_type": "code",
   "execution_count": 24,
   "metadata": {},
   "outputs": [
    {
     "data": {
      "text/plain": [
       "{'Anonymize': 1.0, 'Toxicity': 0.0, 'TokenLimit': 0.0, 'PromptInjection': 0.0}"
      ]
     },
     "execution_count": 24,
     "metadata": {},
     "output_type": "execute_result"
    }
   ],
   "source": [
    "results_score"
   ]
  },
  {
   "cell_type": "code",
   "execution_count": 25,
   "metadata": {},
   "outputs": [],
   "source": [
    "if any(results_valid.values()) is False:\n",
    "    print(f\"Prompt {prompt} is not valid, scores: {results_score}\")\n",
    "    exit(1)"
   ]
  },
  {
   "cell_type": "code",
   "execution_count": 28,
   "metadata": {},
   "outputs": [],
   "source": [
    "# the idea is to run an LLM after a prompt has been sanitized from PII, then to decode back its answer to re-introduce the PII data"
   ]
  },
  {
   "cell_type": "code",
   "execution_count": 29,
   "metadata": {},
   "outputs": [],
   "source": [
    "response = client.chat.completions.create(\n",
    "    model=config[\"OPEN_AI_MODEL_4o_MINI\"],\n",
    "    messages=[\n",
    "        {\"role\": \"system\", \"content\": \"You are a helpful assistant.\"},\n",
    "        {\"role\": \"user\", \"content\": sanitized_prompt},\n",
    "    ],\n",
    "    temperature=0,\n",
    ")"
   ]
  },
  {
   "cell_type": "code",
   "execution_count": 30,
   "metadata": {},
   "outputs": [
    {
     "name": "stdout",
     "output_type": "stream",
     "text": [
      "To create an SQL `INSERT` statement for adding a new user to your database, you would typically need to know the structure of your user table, including the column names. Assuming a simple user table structure, here is an example SQL statement:\n",
      "\n",
      "```sql\n",
      "INSERT INTO users (name, email_primary, email_secondary, phone_number, ip_address, credit_card_number, company)\n",
      "VALUES ('[REDACTED_PERSON_1] Doe', '[REDACTED_EMAIL_ADDRESS_1]', '[REDACTED_EMAIL_ADDRESS_2]', '[REDACTED_PHONE_NUMBER_1]', '[REDACTED_IP_ADDRESS_1]', '[REDACTED_CREDIT_CARD_RE_1]', 'Test LLC');\n",
      "```\n",
      "\n",
      "Make sure to replace the placeholders with the actual values you want to insert. Additionally, ensure that the column names (`name`, `email_primary`, `email_secondary`, `phone_number`, `ip_address`, `credit_card_number`, `company`) match the actual column names in your database schema. \n",
      "\n",
      "Also, be cautious with sensitive information such as credit card numbers and personal details, and ensure that your database complies with relevant data protection regulations (e.g., GDPR, PCI DSS).\n"
     ]
    }
   ],
   "source": [
    "print(response.choices[0].message.content)"
   ]
  },
  {
   "cell_type": "code",
   "execution_count": 31,
   "metadata": {},
   "outputs": [
    {
     "name": "stdout",
     "output_type": "stream",
     "text": [
      "\u001b[2m2024-10-31 11:33:32\u001b[0m [\u001b[32m\u001b[1mdebug    \u001b[0m] \u001b[1mReplaced placeholder with real value\u001b[0m \u001b[36mplaceholder\u001b[0m=\u001b[35m[REDACTED_CREDIT_CARD_RE_1]\u001b[0m\n",
      "\u001b[2m2024-10-31 11:33:32\u001b[0m [\u001b[32m\u001b[1mdebug    \u001b[0m] \u001b[1mReplaced placeholder with real value\u001b[0m \u001b[36mplaceholder\u001b[0m=\u001b[35m[REDACTED_IP_ADDRESS_1]\u001b[0m\n",
      "\u001b[2m2024-10-31 11:33:32\u001b[0m [\u001b[32m\u001b[1mdebug    \u001b[0m] \u001b[1mReplaced placeholder with real value\u001b[0m \u001b[36mplaceholder\u001b[0m=\u001b[35m[REDACTED_PHONE_NUMBER_1]\u001b[0m\n",
      "\u001b[2m2024-10-31 11:33:32\u001b[0m [\u001b[32m\u001b[1mdebug    \u001b[0m] \u001b[1mReplaced placeholder with real value\u001b[0m \u001b[36mplaceholder\u001b[0m=\u001b[35m[REDACTED_EMAIL_ADDRESS_2]\u001b[0m\n",
      "\u001b[2m2024-10-31 11:33:32\u001b[0m [\u001b[32m\u001b[1mdebug    \u001b[0m] \u001b[1mReplaced placeholder with real value\u001b[0m \u001b[36mplaceholder\u001b[0m=\u001b[35m[REDACTED_EMAIL_ADDRESS_1]\u001b[0m\n",
      "\u001b[2m2024-10-31 11:33:32\u001b[0m [\u001b[32m\u001b[1mdebug    \u001b[0m] \u001b[1mReplaced placeholder with real value\u001b[0m \u001b[36mplaceholder\u001b[0m=\u001b[35m[REDACTED_PERSON_1]\u001b[0m\n",
      "\u001b[2m2024-10-31 11:33:32\u001b[0m [\u001b[32m\u001b[1mdebug    \u001b[0m] \u001b[1mScanner completed             \u001b[0m \u001b[36melapsed_time_seconds\u001b[0m=\u001b[35m0.004024\u001b[0m \u001b[36mis_valid\u001b[0m=\u001b[35mTrue\u001b[0m \u001b[36mscanner\u001b[0m=\u001b[35mDeanonymize\u001b[0m\n",
      "\u001b[2m2024-10-31 11:33:32\u001b[0m [\u001b[32m\u001b[1mdebug    \u001b[0m] \u001b[1mNo rejection detected         \u001b[0m \u001b[36mhighest_score\u001b[0m=\u001b[35m0.0\u001b[0m\n",
      "\u001b[2m2024-10-31 11:33:32\u001b[0m [\u001b[32m\u001b[1mdebug    \u001b[0m] \u001b[1mScanner completed             \u001b[0m \u001b[36melapsed_time_seconds\u001b[0m=\u001b[35m0.055181\u001b[0m \u001b[36mis_valid\u001b[0m=\u001b[35mTrue\u001b[0m \u001b[36mscanner\u001b[0m=\u001b[35mNoRefusal\u001b[0m\n",
      "\u001b[2m2024-10-31 11:33:32\u001b[0m [\u001b[32m\u001b[1mdebug    \u001b[0m] \u001b[1mResult is similar to the prompt\u001b[0m \u001b[36msimilarity_score\u001b[0m=\u001b[35m0.8460367\u001b[0m\n",
      "\u001b[2m2024-10-31 11:33:32\u001b[0m [\u001b[32m\u001b[1mdebug    \u001b[0m] \u001b[1mScanner completed             \u001b[0m \u001b[36melapsed_time_seconds\u001b[0m=\u001b[35m0.195336\u001b[0m \u001b[36mis_valid\u001b[0m=\u001b[35mTrue\u001b[0m \u001b[36mscanner\u001b[0m=\u001b[35mRelevance\u001b[0m\n"
     ]
    },
    {
     "name": "stderr",
     "output_type": "stream",
     "text": [
      "Asking to truncate to max_length but no maximum length is provided and the model has no predefined maximum length. Default to no truncation.\n"
     ]
    },
    {
     "name": "stdout",
     "output_type": "stream",
     "text": [
      "\u001b[2m2024-10-31 11:33:32\u001b[0m [\u001b[33m\u001b[1mwarning  \u001b[0m] \u001b[1mFound unrecognized label, returning entity as is\u001b[0m \u001b[36mlabel\u001b[0m=\u001b[35mACCOUNTNUMBER\u001b[0m\n",
      "\u001b[2m2024-10-31 11:33:32\u001b[0m [\u001b[32m\u001b[1mdebug    \u001b[0m] \u001b[1mIgnoring entity               \u001b[0m \u001b[36mentity_group\u001b[0m=\u001b[35mACCOUNTNUMBER\u001b[0m\n",
      "\u001b[2m2024-10-31 11:33:32\u001b[0m [\u001b[33m\u001b[1mwarning  \u001b[0m] \u001b[1mFound unrecognized label, returning entity as is\u001b[0m \u001b[36mlabel\u001b[0m=\u001b[35mACCOUNTNUMBER\u001b[0m\n",
      "\u001b[2m2024-10-31 11:33:32\u001b[0m [\u001b[32m\u001b[1mdebug    \u001b[0m] \u001b[1mIgnoring entity               \u001b[0m \u001b[36mentity_group\u001b[0m=\u001b[35mACCOUNTNUMBER\u001b[0m\n",
      "\u001b[2m2024-10-31 11:33:32\u001b[0m [\u001b[32m\u001b[1mdebug    \u001b[0m] \u001b[1mIgnoring entity               \u001b[0m \u001b[36mentity_group\u001b[0m=\u001b[35mORGANIZATION\u001b[0m\n",
      "\u001b[2m2024-10-31 11:33:32\u001b[0m [\u001b[33m\u001b[1mwarning  \u001b[0m] \u001b[1mFound unrecognized label, returning entity as is\u001b[0m \u001b[36mlabel\u001b[0m=\u001b[35mACCOUNTNUMBER\u001b[0m\n",
      "\u001b[2m2024-10-31 11:33:32\u001b[0m [\u001b[32m\u001b[1mdebug    \u001b[0m] \u001b[1mIgnoring entity               \u001b[0m \u001b[36mentity_group\u001b[0m=\u001b[35mACCOUNTNUMBER\u001b[0m\n",
      "\u001b[2m2024-10-31 11:33:32\u001b[0m [\u001b[33m\u001b[1mwarning  \u001b[0m] \u001b[1mFound sensitive data in the output\u001b[0m \u001b[36mresults\u001b[0m=\u001b[35m[type: EMAIL_ADDRESS, start: 386, end: 399, score: 1.0, type: EMAIL_ADDRESS, start: 403, end: 417, score: 1.0, type: PERSON, start: 374, end: 378, score: 0.8999999761581421, type: EMAIL_ADDRESS_RE, start: 386, end: 399, score: 0.75, type: EMAIL_ADDRESS_RE, start: 403, end: 417, score: 0.75, type: CREDIT_CARD_RE, start: 454, end: 473, score: 0.75, type: IP_ADDRESS, start: 437, end: 450, score: 0.6, type: PHONE_NUMBER, start: 458, end: 473, score: 0.5799999833106995]\u001b[0m\n",
      "\u001b[2m2024-10-31 11:33:32\u001b[0m [\u001b[32m\u001b[1mdebug    \u001b[0m] \u001b[1mScanner completed             \u001b[0m \u001b[36melapsed_time_seconds\u001b[0m=\u001b[35m0.32017\u001b[0m \u001b[36mis_valid\u001b[0m=\u001b[35mFalse\u001b[0m \u001b[36mscanner\u001b[0m=\u001b[35mSensitive\u001b[0m\n",
      "\u001b[2m2024-10-31 11:33:32\u001b[0m [\u001b[32m\u001b[1minfo     \u001b[0m] \u001b[1mScanned output                \u001b[0m \u001b[36melapsed_time_seconds\u001b[0m=\u001b[35m0.576755\u001b[0m \u001b[36mscores\u001b[0m=\u001b[35m{'Deanonymize': 0.0, 'NoRefusal': 0.0, 'Relevance': 0.0, 'Sensitive': 1.0}\u001b[0m\n"
     ]
    }
   ],
   "source": [
    "response_text: str = response.choices[0].message.content\n",
    "sanitized_response_text, results_valid, results_score = scan_output(\n",
    "    output_scanners, sanitized_prompt, response_text\n",
    ")"
   ]
  },
  {
   "cell_type": "code",
   "execution_count": 32,
   "metadata": {},
   "outputs": [
    {
     "name": "stdout",
     "output_type": "stream",
     "text": [
      "To create an SQL `INSERT` statement for adding a new user to your database, you would typically need to know the structure of your user table, including the column names. Assuming a simple user table structure, here is an example SQL statement:\n",
      "\n",
      "```sql\n",
      "INSERT INTO users (name, email_primary, email_secondary, phone_number, ip_address, credit_card_number, company)\n",
      "VALUES ('John Doe', 'test@test.com', 'hello@test.com', '555-123-4567', '192.168.1.100', '4567-8901-2345-6789', 'Test LLC');\n",
      "```\n",
      "\n",
      "Make sure to replace the placeholders with the actual values you want to insert. Additionally, ensure that the column names (`name`, `email_primary`, `email_secondary`, `phone_number`, `ip_address`, `credit_card_number`, `company`) match the actual column names in your database schema. \n",
      "\n",
      "Also, be cautious with sensitive information such as credit card numbers and personal details, and ensure that your database complies with relevant data protection regulations (e.g., GDPR, PCI DSS).\n"
     ]
    }
   ],
   "source": [
    "print(sanitized_response_text)"
   ]
  },
  {
   "cell_type": "code",
   "execution_count": 33,
   "metadata": {},
   "outputs": [],
   "source": [
    "if any(results_valid.values()) is False:\n",
    "    print(f\"Output {response_text} is not valid, scores: {results_score}\")\n",
    "    exit(1)"
   ]
  },
  {
   "cell_type": "code",
   "execution_count": null,
   "metadata": {},
   "outputs": [],
   "source": []
  }
 ],
 "metadata": {
  "kernelspec": {
   "display_name": "venv",
   "language": "python",
   "name": "python3"
  },
  "language_info": {
   "codemirror_mode": {
    "name": "ipython",
    "version": 3
   },
   "file_extension": ".py",
   "mimetype": "text/x-python",
   "name": "python",
   "nbconvert_exporter": "python",
   "pygments_lexer": "ipython3",
   "version": "3.11.10"
  }
 },
 "nbformat": 4,
 "nbformat_minor": 2
}
