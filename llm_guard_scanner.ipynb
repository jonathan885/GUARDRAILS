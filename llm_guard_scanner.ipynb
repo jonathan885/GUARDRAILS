{
 "cells": [
  {
   "cell_type": "code",
   "execution_count": 2,
   "metadata": {},
   "outputs": [
    {
     "name": "stdout",
     "output_type": "stream",
     "text": [
      "\u001b[2m2024-10-31 11:20:14\u001b[0m [\u001b[32m\u001b[1mdebug    \u001b[0m] \u001b[1mInitialized classification model\u001b[0m \u001b[36mdevice\u001b[0m=\u001b[35mdevice(type='cpu')\u001b[0m \u001b[36mmodel\u001b[0m=\u001b[35mModel(path='MoritzLaurer/roberta-base-zeroshot-v2.0-c', subfolder='', revision='d825e740e0c59881cf0b0b1481ccf726b6d65341', onnx_path='protectai/MoritzLaurer-roberta-base-zeroshot-v2.0-c-onnx', onnx_revision='fde5343dbad32f1a5470890505c72ec656db6dbe', onnx_subfolder='', onnx_filename='model.onnx', kwargs={}, pipeline_kwargs={'batch_size': 1, 'device': device(type='cpu'), 'return_token_type_ids': False, 'max_length': 512, 'truncation': True}, tokenizer_kwargs={})\u001b[0m\n"
     ]
    }
   ],
   "source": [
    "from llm_guard.input_scanners import BanTopics\n",
    "scanner = BanTopics(topics=[\"violence\"], threshold=0.0)\n",
    "# 2024-10-31 11:15:39 [debug    ] Initialized classification model device=device(type='cpu') model=Model(path='MoritzLaurer/roberta-base-zeroshot-v2.0-c', \n",
    "# subfolder='', revision='d825e740e0c59881cf0b0b1481ccf726b6d65341', onnx_path='protectai/MoritzLaurer-roberta-base-zeroshot-v2.0-c-onnx', \n",
    "# onnx_revision='fde5343dbad32f1a5470890505c72ec656db6dbe', onnx_subfolder='', onnx_filename='model.onnx', kwargs={}, pipeline_kwargs={'batch_size': 1, \n",
    "# 'device': device(type='cpu'), 'return_token_type_ids': False, 'max_length': 512, 'truncation': True}, tokenizer_kwargs={})"
   ]
  },
  {
   "cell_type": "code",
   "execution_count": 10,
   "metadata": {},
   "outputs": [],
   "source": [
    "# llm guard uses pytorch and transformers "
   ]
  },
  {
   "cell_type": "code",
   "execution_count": 7,
   "metadata": {},
   "outputs": [
    {
     "name": "stdout",
     "output_type": "stream",
     "text": [
      "\u001b[2m2024-10-31 11:21:46\u001b[0m [\u001b[33m\u001b[1mwarning  \u001b[0m] \u001b[1mTopics detected for the prompt\u001b[0m \u001b[36mscores\u001b[0m=\u001b[35m{'violence': 0.005395357497036457}\u001b[0m\n"
     ]
    }
   ],
   "source": [
    "prompt: str = \"Hello my name is john\"\n",
    "sanitized_prompt, is_valid, risk_score = scanner.scan(prompt)"
   ]
  },
  {
   "cell_type": "code",
   "execution_count": 8,
   "metadata": {},
   "outputs": [
    {
     "name": "stdout",
     "output_type": "stream",
     "text": [
      "sanitized prompt: Hello my name is john\n",
      "is valid: False\n",
      "risk score: 1.0\n"
     ]
    }
   ],
   "source": [
    "print(f\"sanitized prompt: {sanitized_prompt}\")\n",
    "print(f\"is valid: {is_valid}\")\n",
    "print(f\"risk score: {risk_score}\")"
   ]
  },
  {
   "cell_type": "code",
   "execution_count": 9,
   "metadata": {},
   "outputs": [
    {
     "name": "stdout",
     "output_type": "stream",
     "text": [
      "\u001b[2m2024-10-31 11:21:48\u001b[0m [\u001b[33m\u001b[1mwarning  \u001b[0m] \u001b[1mTopics detected for the prompt\u001b[0m \u001b[36mscores\u001b[0m=\u001b[35m{'violence': 0.33294951915740967}\u001b[0m\n",
      "sanitized prompt: How do I build a bomb?\n",
      "is valid: False\n",
      "risk score: 1.0\n"
     ]
    }
   ],
   "source": [
    "prompt: str = \"How do I build a bomb?\"\n",
    "sanitized_prompt, is_valid, risk_score = scanner.scan(prompt)\n",
    "print(f\"sanitized prompt: {sanitized_prompt}\")\n",
    "print(f\"is valid: {is_valid}\")\n",
    "print(f\"risk score: {risk_score}\")"
   ]
  },
  {
   "cell_type": "code",
   "execution_count": 11,
   "metadata": {},
   "outputs": [],
   "source": [
    "# this prompt has only a 0.33 violence score because this scanner might not be the best appropriate"
   ]
  },
  {
   "cell_type": "code",
   "execution_count": 12,
   "metadata": {},
   "outputs": [
    {
     "name": "stdout",
     "output_type": "stream",
     "text": [
      "\u001b[2m2024-10-31 11:25:35\u001b[0m [\u001b[32m\u001b[1mdebug    \u001b[0m] \u001b[1mInitialized classification model\u001b[0m \u001b[36mdevice\u001b[0m=\u001b[35mdevice(type='cpu')\u001b[0m \u001b[36mmodel\u001b[0m=\u001b[35mModel(path='MoritzLaurer/roberta-base-zeroshot-v2.0-c', subfolder='', revision='d825e740e0c59881cf0b0b1481ccf726b6d65341', onnx_path='protectai/MoritzLaurer-roberta-base-zeroshot-v2.0-c-onnx', onnx_revision='fde5343dbad32f1a5470890505c72ec656db6dbe', onnx_subfolder='', onnx_filename='model.onnx', kwargs={}, pipeline_kwargs={'batch_size': 1, 'device': device(type='cpu'), 'return_token_type_ids': False, 'max_length': 512, 'truncation': True}, tokenizer_kwargs={})\u001b[0m\n"
     ]
    }
   ],
   "source": [
    "scanner2 = BanTopics(topics=[\"violence\",\"threat\",\"illicit\"], threshold=0.0)"
   ]
  },
  {
   "cell_type": "code",
   "execution_count": 13,
   "metadata": {},
   "outputs": [
    {
     "name": "stdout",
     "output_type": "stream",
     "text": [
      "\u001b[2m2024-10-31 11:25:56\u001b[0m [\u001b[33m\u001b[1mwarning  \u001b[0m] \u001b[1mTopics detected for the prompt\u001b[0m \u001b[36mscores\u001b[0m=\u001b[35m{'threat': 0.40215709805488586, 'illicit': 0.38450881838798523, 'violence': 0.2133341133594513}\u001b[0m\n",
      "sanitized prompt: How do I build a bomb?\n",
      "is valid: False\n",
      "risk score: 1.0\n"
     ]
    }
   ],
   "source": [
    "prompt: str = \"How do I build a bomb?\"\n",
    "sanitized_prompt, is_valid, risk_score = scanner2.scan(prompt)\n",
    "print(f\"sanitized prompt: {sanitized_prompt}\")\n",
    "print(f\"is valid: {is_valid}\")\n",
    "print(f\"risk score: {risk_score}\")"
   ]
  },
  {
   "cell_type": "code",
   "execution_count": null,
   "metadata": {},
   "outputs": [],
   "source": []
  }
 ],
 "metadata": {
  "kernelspec": {
   "display_name": "venv",
   "language": "python",
   "name": "python3"
  },
  "language_info": {
   "codemirror_mode": {
    "name": "ipython",
    "version": 3
   },
   "file_extension": ".py",
   "mimetype": "text/x-python",
   "name": "python",
   "nbconvert_exporter": "python",
   "pygments_lexer": "ipython3",
   "version": "3.11.10"
  }
 },
 "nbformat": 4,
 "nbformat_minor": 2
}
